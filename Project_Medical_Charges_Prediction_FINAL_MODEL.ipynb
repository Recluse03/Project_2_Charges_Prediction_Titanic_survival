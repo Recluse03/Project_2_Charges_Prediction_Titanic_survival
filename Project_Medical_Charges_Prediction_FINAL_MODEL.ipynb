{
 "cells": [
  {
   "cell_type": "code",
   "execution_count": 1,
   "id": "1cbf69db",
   "metadata": {},
   "outputs": [],
   "source": [
    "#Importing necessary libraries to ascertain Data_set#####\n",
    "import pandas as pd\n",
    "import numpy as np"
   ]
  },
  {
   "cell_type": "code",
   "execution_count": 2,
   "id": "8d5d27d9",
   "metadata": {},
   "outputs": [
    {
     "data": {
      "text/html": [
       "<div>\n",
       "<style scoped>\n",
       "    .dataframe tbody tr th:only-of-type {\n",
       "        vertical-align: middle;\n",
       "    }\n",
       "\n",
       "    .dataframe tbody tr th {\n",
       "        vertical-align: top;\n",
       "    }\n",
       "\n",
       "    .dataframe thead th {\n",
       "        text-align: right;\n",
       "    }\n",
       "</style>\n",
       "<table border=\"1\" class=\"dataframe\">\n",
       "  <thead>\n",
       "    <tr style=\"text-align: right;\">\n",
       "      <th></th>\n",
       "      <th>age</th>\n",
       "      <th>sex</th>\n",
       "      <th>bmi</th>\n",
       "      <th>children</th>\n",
       "      <th>smoker</th>\n",
       "      <th>region</th>\n",
       "      <th>charges</th>\n",
       "    </tr>\n",
       "  </thead>\n",
       "  <tbody>\n",
       "    <tr>\n",
       "      <th>0</th>\n",
       "      <td>19</td>\n",
       "      <td>female</td>\n",
       "      <td>27.900</td>\n",
       "      <td>0</td>\n",
       "      <td>yes</td>\n",
       "      <td>southwest</td>\n",
       "      <td>16884.92400</td>\n",
       "    </tr>\n",
       "    <tr>\n",
       "      <th>1</th>\n",
       "      <td>18</td>\n",
       "      <td>male</td>\n",
       "      <td>33.770</td>\n",
       "      <td>1</td>\n",
       "      <td>no</td>\n",
       "      <td>southeast</td>\n",
       "      <td>1725.55230</td>\n",
       "    </tr>\n",
       "    <tr>\n",
       "      <th>2</th>\n",
       "      <td>28</td>\n",
       "      <td>male</td>\n",
       "      <td>33.000</td>\n",
       "      <td>3</td>\n",
       "      <td>no</td>\n",
       "      <td>southeast</td>\n",
       "      <td>4449.46200</td>\n",
       "    </tr>\n",
       "    <tr>\n",
       "      <th>3</th>\n",
       "      <td>33</td>\n",
       "      <td>male</td>\n",
       "      <td>22.705</td>\n",
       "      <td>0</td>\n",
       "      <td>no</td>\n",
       "      <td>northwest</td>\n",
       "      <td>21984.47061</td>\n",
       "    </tr>\n",
       "    <tr>\n",
       "      <th>4</th>\n",
       "      <td>32</td>\n",
       "      <td>male</td>\n",
       "      <td>28.880</td>\n",
       "      <td>0</td>\n",
       "      <td>no</td>\n",
       "      <td>northwest</td>\n",
       "      <td>3866.85520</td>\n",
       "    </tr>\n",
       "    <tr>\n",
       "      <th>...</th>\n",
       "      <td>...</td>\n",
       "      <td>...</td>\n",
       "      <td>...</td>\n",
       "      <td>...</td>\n",
       "      <td>...</td>\n",
       "      <td>...</td>\n",
       "      <td>...</td>\n",
       "    </tr>\n",
       "    <tr>\n",
       "      <th>1333</th>\n",
       "      <td>50</td>\n",
       "      <td>male</td>\n",
       "      <td>30.970</td>\n",
       "      <td>3</td>\n",
       "      <td>no</td>\n",
       "      <td>northwest</td>\n",
       "      <td>10600.54830</td>\n",
       "    </tr>\n",
       "    <tr>\n",
       "      <th>1334</th>\n",
       "      <td>18</td>\n",
       "      <td>female</td>\n",
       "      <td>31.920</td>\n",
       "      <td>0</td>\n",
       "      <td>no</td>\n",
       "      <td>northeast</td>\n",
       "      <td>2205.98080</td>\n",
       "    </tr>\n",
       "    <tr>\n",
       "      <th>1335</th>\n",
       "      <td>18</td>\n",
       "      <td>female</td>\n",
       "      <td>36.850</td>\n",
       "      <td>0</td>\n",
       "      <td>no</td>\n",
       "      <td>southeast</td>\n",
       "      <td>1629.83350</td>\n",
       "    </tr>\n",
       "    <tr>\n",
       "      <th>1336</th>\n",
       "      <td>21</td>\n",
       "      <td>female</td>\n",
       "      <td>25.800</td>\n",
       "      <td>0</td>\n",
       "      <td>no</td>\n",
       "      <td>southwest</td>\n",
       "      <td>2007.94500</td>\n",
       "    </tr>\n",
       "    <tr>\n",
       "      <th>1337</th>\n",
       "      <td>61</td>\n",
       "      <td>female</td>\n",
       "      <td>29.070</td>\n",
       "      <td>0</td>\n",
       "      <td>yes</td>\n",
       "      <td>northwest</td>\n",
       "      <td>29141.36030</td>\n",
       "    </tr>\n",
       "  </tbody>\n",
       "</table>\n",
       "<p>1338 rows × 7 columns</p>\n",
       "</div>"
      ],
      "text/plain": [
       "      age     sex     bmi  children smoker     region      charges\n",
       "0      19  female  27.900         0    yes  southwest  16884.92400\n",
       "1      18    male  33.770         1     no  southeast   1725.55230\n",
       "2      28    male  33.000         3     no  southeast   4449.46200\n",
       "3      33    male  22.705         0     no  northwest  21984.47061\n",
       "4      32    male  28.880         0     no  northwest   3866.85520\n",
       "...   ...     ...     ...       ...    ...        ...          ...\n",
       "1333   50    male  30.970         3     no  northwest  10600.54830\n",
       "1334   18  female  31.920         0     no  northeast   2205.98080\n",
       "1335   18  female  36.850         0     no  southeast   1629.83350\n",
       "1336   21  female  25.800         0     no  southwest   2007.94500\n",
       "1337   61  female  29.070         0    yes  northwest  29141.36030\n",
       "\n",
       "[1338 rows x 7 columns]"
      ]
     },
     "execution_count": 2,
     "metadata": {},
     "output_type": "execute_result"
    }
   ],
   "source": [
    "###Importing Data_set using Pandas#####\n",
    "df = pd.read_csv('medical_cost_insurance.csv')\n",
    "df"
   ]
  },
  {
   "cell_type": "markdown",
   "id": "9c210648",
   "metadata": {},
   "source": [
    "Observations on first go========= Columns like sex,smoker,region are having text not numbers,we will use encoding to resolve the situation post other verifications on our Data set."
   ]
  },
  {
   "cell_type": "code",
   "execution_count": 3,
   "id": "3536abf7",
   "metadata": {},
   "outputs": [
    {
     "data": {
      "text/plain": [
       "(1338, 7)"
      ]
     },
     "execution_count": 3,
     "metadata": {},
     "output_type": "execute_result"
    }
   ],
   "source": [
    "df.shape"
   ]
  },
  {
   "cell_type": "code",
   "execution_count": 4,
   "id": "8f85d709",
   "metadata": {},
   "outputs": [
    {
     "name": "stdout",
     "output_type": "stream",
     "text": [
      "<class 'pandas.core.frame.DataFrame'>\n",
      "RangeIndex: 1338 entries, 0 to 1337\n",
      "Data columns (total 7 columns):\n",
      " #   Column    Non-Null Count  Dtype  \n",
      "---  ------    --------------  -----  \n",
      " 0   age       1338 non-null   int64  \n",
      " 1   sex       1338 non-null   object \n",
      " 2   bmi       1338 non-null   float64\n",
      " 3   children  1338 non-null   int64  \n",
      " 4   smoker    1338 non-null   object \n",
      " 5   region    1338 non-null   object \n",
      " 6   charges   1338 non-null   float64\n",
      "dtypes: float64(2), int64(2), object(3)\n",
      "memory usage: 73.3+ KB\n"
     ]
    }
   ],
   "source": [
    "df.info()"
   ]
  },
  {
   "cell_type": "markdown",
   "id": "c2777f31",
   "metadata": {},
   "source": [
    "# # Machine only understand numbers we could have used encoders but here i have used .replace method to provide encoding to columns which are having Text values"
   ]
  },
  {
   "cell_type": "code",
   "execution_count": 5,
   "id": "855ea1cd",
   "metadata": {},
   "outputs": [
    {
     "data": {
      "text/html": [
       "<div>\n",
       "<style scoped>\n",
       "    .dataframe tbody tr th:only-of-type {\n",
       "        vertical-align: middle;\n",
       "    }\n",
       "\n",
       "    .dataframe tbody tr th {\n",
       "        vertical-align: top;\n",
       "    }\n",
       "\n",
       "    .dataframe thead th {\n",
       "        text-align: right;\n",
       "    }\n",
       "</style>\n",
       "<table border=\"1\" class=\"dataframe\">\n",
       "  <thead>\n",
       "    <tr style=\"text-align: right;\">\n",
       "      <th></th>\n",
       "      <th>age</th>\n",
       "      <th>sex</th>\n",
       "      <th>bmi</th>\n",
       "      <th>children</th>\n",
       "      <th>smoker</th>\n",
       "      <th>region</th>\n",
       "      <th>charges</th>\n",
       "    </tr>\n",
       "  </thead>\n",
       "  <tbody>\n",
       "    <tr>\n",
       "      <th>0</th>\n",
       "      <td>19</td>\n",
       "      <td>1</td>\n",
       "      <td>27.900</td>\n",
       "      <td>0</td>\n",
       "      <td>1</td>\n",
       "      <td>0</td>\n",
       "      <td>16884.92400</td>\n",
       "    </tr>\n",
       "    <tr>\n",
       "      <th>1</th>\n",
       "      <td>18</td>\n",
       "      <td>0</td>\n",
       "      <td>33.770</td>\n",
       "      <td>1</td>\n",
       "      <td>0</td>\n",
       "      <td>1</td>\n",
       "      <td>1725.55230</td>\n",
       "    </tr>\n",
       "    <tr>\n",
       "      <th>2</th>\n",
       "      <td>28</td>\n",
       "      <td>0</td>\n",
       "      <td>33.000</td>\n",
       "      <td>3</td>\n",
       "      <td>0</td>\n",
       "      <td>1</td>\n",
       "      <td>4449.46200</td>\n",
       "    </tr>\n",
       "    <tr>\n",
       "      <th>3</th>\n",
       "      <td>33</td>\n",
       "      <td>0</td>\n",
       "      <td>22.705</td>\n",
       "      <td>0</td>\n",
       "      <td>0</td>\n",
       "      <td>2</td>\n",
       "      <td>21984.47061</td>\n",
       "    </tr>\n",
       "    <tr>\n",
       "      <th>4</th>\n",
       "      <td>32</td>\n",
       "      <td>0</td>\n",
       "      <td>28.880</td>\n",
       "      <td>0</td>\n",
       "      <td>0</td>\n",
       "      <td>2</td>\n",
       "      <td>3866.85520</td>\n",
       "    </tr>\n",
       "    <tr>\n",
       "      <th>...</th>\n",
       "      <td>...</td>\n",
       "      <td>...</td>\n",
       "      <td>...</td>\n",
       "      <td>...</td>\n",
       "      <td>...</td>\n",
       "      <td>...</td>\n",
       "      <td>...</td>\n",
       "    </tr>\n",
       "    <tr>\n",
       "      <th>1333</th>\n",
       "      <td>50</td>\n",
       "      <td>0</td>\n",
       "      <td>30.970</td>\n",
       "      <td>3</td>\n",
       "      <td>0</td>\n",
       "      <td>2</td>\n",
       "      <td>10600.54830</td>\n",
       "    </tr>\n",
       "    <tr>\n",
       "      <th>1334</th>\n",
       "      <td>18</td>\n",
       "      <td>1</td>\n",
       "      <td>31.920</td>\n",
       "      <td>0</td>\n",
       "      <td>0</td>\n",
       "      <td>3</td>\n",
       "      <td>2205.98080</td>\n",
       "    </tr>\n",
       "    <tr>\n",
       "      <th>1335</th>\n",
       "      <td>18</td>\n",
       "      <td>1</td>\n",
       "      <td>36.850</td>\n",
       "      <td>0</td>\n",
       "      <td>0</td>\n",
       "      <td>1</td>\n",
       "      <td>1629.83350</td>\n",
       "    </tr>\n",
       "    <tr>\n",
       "      <th>1336</th>\n",
       "      <td>21</td>\n",
       "      <td>1</td>\n",
       "      <td>25.800</td>\n",
       "      <td>0</td>\n",
       "      <td>0</td>\n",
       "      <td>0</td>\n",
       "      <td>2007.94500</td>\n",
       "    </tr>\n",
       "    <tr>\n",
       "      <th>1337</th>\n",
       "      <td>61</td>\n",
       "      <td>1</td>\n",
       "      <td>29.070</td>\n",
       "      <td>0</td>\n",
       "      <td>1</td>\n",
       "      <td>2</td>\n",
       "      <td>29141.36030</td>\n",
       "    </tr>\n",
       "  </tbody>\n",
       "</table>\n",
       "<p>1338 rows × 7 columns</p>\n",
       "</div>"
      ],
      "text/plain": [
       "      age  sex     bmi  children  smoker  region      charges\n",
       "0      19    1  27.900         0       1       0  16884.92400\n",
       "1      18    0  33.770         1       0       1   1725.55230\n",
       "2      28    0  33.000         3       0       1   4449.46200\n",
       "3      33    0  22.705         0       0       2  21984.47061\n",
       "4      32    0  28.880         0       0       2   3866.85520\n",
       "...   ...  ...     ...       ...     ...     ...          ...\n",
       "1333   50    0  30.970         3       0       2  10600.54830\n",
       "1334   18    1  31.920         0       0       3   2205.98080\n",
       "1335   18    1  36.850         0       0       1   1629.83350\n",
       "1336   21    1  25.800         0       0       0   2007.94500\n",
       "1337   61    1  29.070         0       1       2  29141.36030\n",
       "\n",
       "[1338 rows x 7 columns]"
      ]
     },
     "execution_count": 5,
     "metadata": {},
     "output_type": "execute_result"
    }
   ],
   "source": [
    "df['sex'].replace({'male':0,'female':1},inplace=True)\n",
    "df['smoker'].replace({'yes':1,'no':0},inplace=True)\n",
    "df['region'].replace({'southwest':0,'southeast':1,'northwest':2,'northeast':3},inplace=True)\n",
    "df"
   ]
  },
  {
   "cell_type": "code",
   "execution_count": 6,
   "id": "32ada570",
   "metadata": {},
   "outputs": [
    {
     "data": {
      "text/plain": [
       "age         0\n",
       "sex         0\n",
       "bmi         0\n",
       "children    0\n",
       "smoker      0\n",
       "region      0\n",
       "charges     0\n",
       "dtype: int64"
      ]
     },
     "execution_count": 6,
     "metadata": {},
     "output_type": "execute_result"
    }
   ],
   "source": [
    "#Their is NAN values present in data set,we are good to proceed######\n",
    "df.isna().sum()"
   ]
  },
  {
   "cell_type": "code",
   "execution_count": 7,
   "id": "9afe228d",
   "metadata": {},
   "outputs": [],
   "source": [
    "#Importing necessary Libraries again####\n",
    "import seaborn as sns\n",
    "import matplotlib.pyplot as plt\n",
    "import warnings\n",
    "warnings.filterwarnings('ignore')"
   ]
  },
  {
   "cell_type": "markdown",
   "id": "0844b3ed",
   "metadata": {},
   "source": [
    "# Lets check the overall health of our Data using .describe method"
   ]
  },
  {
   "cell_type": "code",
   "execution_count": 8,
   "id": "43128ca1",
   "metadata": {},
   "outputs": [
    {
     "data": {
      "text/html": [
       "<div>\n",
       "<style scoped>\n",
       "    .dataframe tbody tr th:only-of-type {\n",
       "        vertical-align: middle;\n",
       "    }\n",
       "\n",
       "    .dataframe tbody tr th {\n",
       "        vertical-align: top;\n",
       "    }\n",
       "\n",
       "    .dataframe thead th {\n",
       "        text-align: right;\n",
       "    }\n",
       "</style>\n",
       "<table border=\"1\" class=\"dataframe\">\n",
       "  <thead>\n",
       "    <tr style=\"text-align: right;\">\n",
       "      <th></th>\n",
       "      <th>age</th>\n",
       "      <th>sex</th>\n",
       "      <th>bmi</th>\n",
       "      <th>children</th>\n",
       "      <th>smoker</th>\n",
       "      <th>region</th>\n",
       "      <th>charges</th>\n",
       "    </tr>\n",
       "  </thead>\n",
       "  <tbody>\n",
       "    <tr>\n",
       "      <th>count</th>\n",
       "      <td>1338.000000</td>\n",
       "      <td>1338.000000</td>\n",
       "      <td>1338.000000</td>\n",
       "      <td>1338.000000</td>\n",
       "      <td>1338.000000</td>\n",
       "      <td>1338.000000</td>\n",
       "      <td>1338.000000</td>\n",
       "    </tr>\n",
       "    <tr>\n",
       "      <th>mean</th>\n",
       "      <td>39.207025</td>\n",
       "      <td>0.494768</td>\n",
       "      <td>30.663397</td>\n",
       "      <td>1.094918</td>\n",
       "      <td>0.204783</td>\n",
       "      <td>1.484305</td>\n",
       "      <td>13270.422265</td>\n",
       "    </tr>\n",
       "    <tr>\n",
       "      <th>std</th>\n",
       "      <td>14.049960</td>\n",
       "      <td>0.500160</td>\n",
       "      <td>6.098187</td>\n",
       "      <td>1.205493</td>\n",
       "      <td>0.403694</td>\n",
       "      <td>1.104885</td>\n",
       "      <td>12110.011237</td>\n",
       "    </tr>\n",
       "    <tr>\n",
       "      <th>min</th>\n",
       "      <td>18.000000</td>\n",
       "      <td>0.000000</td>\n",
       "      <td>15.960000</td>\n",
       "      <td>0.000000</td>\n",
       "      <td>0.000000</td>\n",
       "      <td>0.000000</td>\n",
       "      <td>1121.873900</td>\n",
       "    </tr>\n",
       "    <tr>\n",
       "      <th>25%</th>\n",
       "      <td>27.000000</td>\n",
       "      <td>0.000000</td>\n",
       "      <td>26.296250</td>\n",
       "      <td>0.000000</td>\n",
       "      <td>0.000000</td>\n",
       "      <td>1.000000</td>\n",
       "      <td>4740.287150</td>\n",
       "    </tr>\n",
       "    <tr>\n",
       "      <th>50%</th>\n",
       "      <td>39.000000</td>\n",
       "      <td>0.000000</td>\n",
       "      <td>30.400000</td>\n",
       "      <td>1.000000</td>\n",
       "      <td>0.000000</td>\n",
       "      <td>1.000000</td>\n",
       "      <td>9382.033000</td>\n",
       "    </tr>\n",
       "    <tr>\n",
       "      <th>75%</th>\n",
       "      <td>51.000000</td>\n",
       "      <td>1.000000</td>\n",
       "      <td>34.693750</td>\n",
       "      <td>2.000000</td>\n",
       "      <td>0.000000</td>\n",
       "      <td>2.000000</td>\n",
       "      <td>16639.912515</td>\n",
       "    </tr>\n",
       "    <tr>\n",
       "      <th>max</th>\n",
       "      <td>64.000000</td>\n",
       "      <td>1.000000</td>\n",
       "      <td>53.130000</td>\n",
       "      <td>5.000000</td>\n",
       "      <td>1.000000</td>\n",
       "      <td>3.000000</td>\n",
       "      <td>63770.428010</td>\n",
       "    </tr>\n",
       "  </tbody>\n",
       "</table>\n",
       "</div>"
      ],
      "text/plain": [
       "               age          sex          bmi     children       smoker  \\\n",
       "count  1338.000000  1338.000000  1338.000000  1338.000000  1338.000000   \n",
       "mean     39.207025     0.494768    30.663397     1.094918     0.204783   \n",
       "std      14.049960     0.500160     6.098187     1.205493     0.403694   \n",
       "min      18.000000     0.000000    15.960000     0.000000     0.000000   \n",
       "25%      27.000000     0.000000    26.296250     0.000000     0.000000   \n",
       "50%      39.000000     0.000000    30.400000     1.000000     0.000000   \n",
       "75%      51.000000     1.000000    34.693750     2.000000     0.000000   \n",
       "max      64.000000     1.000000    53.130000     5.000000     1.000000   \n",
       "\n",
       "            region       charges  \n",
       "count  1338.000000   1338.000000  \n",
       "mean      1.484305  13270.422265  \n",
       "std       1.104885  12110.011237  \n",
       "min       0.000000   1121.873900  \n",
       "25%       1.000000   4740.287150  \n",
       "50%       1.000000   9382.033000  \n",
       "75%       2.000000  16639.912515  \n",
       "max       3.000000  63770.428010  "
      ]
     },
     "execution_count": 8,
     "metadata": {},
     "output_type": "execute_result"
    }
   ],
   "source": [
    "df.describe()"
   ]
  },
  {
   "cell_type": "markdown",
   "id": "8f3f0665",
   "metadata": {},
   "source": [
    "Observations====\n",
    "\n",
    "1-Age=> Measure of central Tendency and Dispersion is looking satisfactory,Min and Max are also satisfactory.\n",
    "\n",
    "2-sex=> Mean & STD are close to each others and Min & MAX values are not satisfactory\n",
    "\n",
    "3- bmi=> Measure of central Tendency and Dispersion is looking satisfactory,but Max value of BMI indicating presence of outliers\n",
    "\n",
    "4- children=> Mean & STD values are very close to each other, rest is looking satisfactory\n",
    "\n",
    "5- smoker=> Measure of central Tendency and Dispersion is looking satisfactory,no values in Min and MAX could be point of concern\n",
    "\n",
    "6 - region=> We will recheck and we will see if region is impacting the charges and accordingly we will take the decision(rest all is looking satisfactory)"
   ]
  },
  {
   "cell_type": "code",
   "execution_count": 9,
   "id": "a53fe960",
   "metadata": {},
   "outputs": [],
   "source": [
    "#Importing necessary Libraries again####\n",
    "import seaborn as sns\n",
    "import matplotlib.pyplot as plt\n",
    "import warnings\n",
    "warnings.filterwarnings('ignore')"
   ]
  },
  {
   "cell_type": "markdown",
   "id": "7feb23c6",
   "metadata": {},
   "source": [
    "# # According to my Pre observation on data i suspected outliers in BMI and i am checking the same by plotting BOX PLOT with adjunct to check on Min and Max values"
   ]
  },
  {
   "cell_type": "code",
   "execution_count": 13,
   "id": "3cf6d55c",
   "metadata": {},
   "outputs": [
    {
     "data": {
      "image/png": "[encoded data removed]",
      "text/plain": [
       "<Figure size 1440x1080 with 7 Axes>"
      ]
     },
     "metadata": {
      "needs_background": "light"
     },
     "output_type": "display_data"
    }
   ],
   "source": [
    "plt.figure(figsize=(20,15))\n",
    "plotnumber=1\n",
    "for column in df:\n",
    "    if plotnumber<=8:\n",
    "        plt.subplot(2,4,plotnumber)\n",
    "        sns.boxplot(df[column])\n",
    "    plotnumber+=1    \n",
    "\n",
    "        \n",
    "plt.show()        "
   ]
  },
  {
   "cell_type": "markdown",
   "id": "e2020dd9",
   "metadata": {},
   "source": [
    "========As expected BMI is showing outliers on higher side,Lets treat the outliers first=============\n",
    "****we are deleting outliers here i have verified from official site of ICMR that maximum mean BMI of average person is 29,hence we are having 53 as maximum value which is not a realistic value****"
   ]
  },
  {
   "cell_type": "code",
   "execution_count": 14,
   "id": "bde83299",
   "metadata": {},
   "outputs": [],
   "source": [
    "#####Ascertaining values of outliers#######\n",
    "Q1= df.quantile(0.25)\n",
    "Q3= df.quantile(0.75)\n",
    "IQR = Q3-Q1"
   ]
  },
  {
   "cell_type": "code",
   "execution_count": 15,
   "id": "2ec00118",
   "metadata": {},
   "outputs": [],
   "source": [
    "###Any value above this BMI_high value is a outlier#####\n",
    "BMI_high = (Q3.bmi+(1.5*IQR.bmi))\n",
    "###Finding the indexes where value is above the BMI_high value#####\n",
    "index=np.where(df['bmi']>BMI_high)\n",
    "df = df.drop(df.index[index]) \n"
   ]
  },
  {
   "cell_type": "code",
   "execution_count": 16,
   "id": "5d7eda06",
   "metadata": {},
   "outputs": [
    {
     "data": {
      "text/plain": [
       "(1329, 7)"
      ]
     },
     "execution_count": 16,
     "metadata": {},
     "output_type": "execute_result"
    }
   ],
   "source": [
    "###checking the shape of data set again after treating outliers######\n",
    "df.shape"
   ]
  },
  {
   "cell_type": "markdown",
   "id": "85d5d13e",
   "metadata": {},
   "source": [
    "# Lets check the distribution of data set as we know the assumption that continuous data will always form a Normal distribution and we have also treated the outliers"
   ]
  },
  {
   "cell_type": "code",
   "execution_count": 17,
   "id": "eae4e111",
   "metadata": {},
   "outputs": [
    {
     "data": {
      "image/png": "[encoded data removed]",
      "text/plain": [
       "<Figure size 1440x1080 with 7 Axes>"
      ]
     },
     "metadata": {
      "needs_background": "light"
     },
     "output_type": "display_data"
    }
   ],
   "source": [
    "plt.figure(figsize=(20,15))\n",
    "plotnumber=1\n",
    "for column in df:\n",
    "    if plotnumber<=8:\n",
    "        ax=plt.subplot(2,4,plotnumber)\n",
    "        sns.distplot(df[column])\n",
    "        \n",
    "    plotnumber+=1\n",
    "    \n",
    "plt.show()    "
   ]
  },
  {
   "cell_type": "markdown",
   "id": "53c96953",
   "metadata": {},
   "source": [
    "we have seen in visualization part outiers for BMI has been corrected\n",
    "\n",
    "Lets seprate Label and Features for checking if all features and contributing to Label"
   ]
  },
  {
   "cell_type": "code",
   "execution_count": 18,
   "id": "8eb6733e",
   "metadata": {},
   "outputs": [],
   "source": [
    "x=df.drop(columns=['charges'])\n",
    "y = df['charges']"
   ]
  },
  {
   "cell_type": "markdown",
   "id": "50290f8a",
   "metadata": {},
   "source": [
    "# Feature VS Label"
   ]
  },
  {
   "cell_type": "code",
   "execution_count": 19,
   "id": "601c5ab6",
   "metadata": {},
   "outputs": [
    {
     "data": {
      "image/png": "[encoded data removed]",
      "text/plain": [
       "<Figure size 1440x1080 with 6 Axes>"
      ]
     },
     "metadata": {
      "needs_background": "light"
     },
     "output_type": "display_data"
    }
   ],
   "source": [
    "plt.figure(figsize=(20,15))\n",
    "plotnumber=1\n",
    "for column in x:\n",
    "    if plotnumber<=8:\n",
    "        ax=plt.subplot(2,4,plotnumber)\n",
    "        plt.bar(x[column],y)\n",
    "        plt.xlabel(column)\n",
    "        plt.ylabel('charges')\n",
    "        \n",
    "    plotnumber+=1\n",
    "    \n",
    "plt.show()    "
   ]
  },
  {
   "cell_type": "markdown",
   "id": "56a3eecc",
   "metadata": {},
   "source": [
    "Observations-----\n",
    "\n",
    "1.Charges=> visualization is depicting with less the age less the charges more the age more the charges\n",
    "\n",
    "2.Sex=> Males are just above the females in term of charges.\n",
    "\n",
    "3.BMI=> When BMI value is b/w 30-40 the charges are tend to increase\n",
    "\n",
    "4.Children=> with increase in number of childrens charges are decreasing,this might show chances of multi-collinearity\n",
    "\n",
    "5.Smoker=> If a person is smoker he/she tends to pay more charges\n",
    "\n",
    "6.Region=> Regions are showing no big effect regionwise on charges we may delete this feature to save our time"
   ]
  },
  {
   "cell_type": "markdown",
   "id": "0167c474",
   "metadata": {},
   "source": [
    "# # Lets recheck the observations and Multi-Collinearity by plotting Heat map"
   ]
  },
  {
   "cell_type": "code",
   "execution_count": 20,
   "id": "3b8ee581",
   "metadata": {},
   "outputs": [
    {
     "data": {
      "image/png": "[encoded data removed]",
      "text/plain": [
       "<Figure size 1296x1008 with 2 Axes>"
      ]
     },
     "metadata": {
      "needs_background": "light"
     },
     "output_type": "display_data"
    }
   ],
   "source": [
    "df_corr=df.corr().abs()\n",
    "plt.figure(figsize=(18,14))\n",
    "sns.heatmap(df_corr,annot=True)\n",
    "plt.show()"
   ]
  },
  {
   "cell_type": "markdown",
   "id": "b6088737",
   "metadata": {},
   "source": [
    "***NO Multi-collinearity problem has been visualized***"
   ]
  },
  {
   "cell_type": "code",
   "execution_count": 21,
   "id": "f4c15922",
   "metadata": {},
   "outputs": [],
   "source": [
    "##Importing necessary Libraries####\n",
    "from sklearn.preprocessing import StandardScaler\n",
    "from sklearn.model_selection import train_test_split\n",
    "from sklearn.linear_model import LinearRegression"
   ]
  },
  {
   "cell_type": "code",
   "execution_count": 22,
   "id": "d3c6a0c9",
   "metadata": {},
   "outputs": [],
   "source": [
    "###Initiating object for standard scaler#####\n",
    "scaler = StandardScaler()"
   ]
  },
  {
   "cell_type": "code",
   "execution_count": 23,
   "id": "d9c2ce63",
   "metadata": {},
   "outputs": [],
   "source": [
    "##Scaling of data#####\n",
    "\n",
    "x_scaled= scaler.fit_transform(x)"
   ]
  },
  {
   "cell_type": "code",
   "execution_count": 24,
   "id": "b50ed9cb",
   "metadata": {},
   "outputs": [],
   "source": [
    "#Applying train_test_split for training and testing of data#####\n",
    "x_train,x_test,y_train,y_test=train_test_split(x_scaled,y,test_size=0.33,random_state=21)"
   ]
  },
  {
   "cell_type": "code",
   "execution_count": 25,
   "id": "1251c2ce",
   "metadata": {},
   "outputs": [],
   "source": [
    "#Creating object for Linear Regression algorithm####\n",
    "LR = LinearRegression()"
   ]
  },
  {
   "cell_type": "code",
   "execution_count": 26,
   "id": "1abec16e",
   "metadata": {},
   "outputs": [
    {
     "data": {
      "text/plain": [
       "LinearRegression()"
      ]
     },
     "execution_count": 26,
     "metadata": {},
     "output_type": "execute_result"
    }
   ],
   "source": [
    "###Model learning on training Data#####\n",
    "LR.fit(x_train,y_train)"
   ]
  },
  {
   "cell_type": "code",
   "execution_count": 27,
   "id": "63de906f",
   "metadata": {},
   "outputs": [
    {
     "data": {
      "text/plain": [
       "LinearRegression()"
      ]
     },
     "execution_count": 27,
     "metadata": {},
     "output_type": "execute_result"
    }
   ],
   "source": [
    "##Model training of testing data####\n",
    "LR.fit(x_test,y_test)"
   ]
  },
  {
   "cell_type": "markdown",
   "id": "7fb0ac50",
   "metadata": {},
   "source": [
    "# Training Score"
   ]
  },
  {
   "cell_type": "code",
   "execution_count": 28,
   "id": "e6fcba7c",
   "metadata": {},
   "outputs": [
    {
     "data": {
      "text/plain": [
       "0.7497680382834926"
      ]
     },
     "execution_count": 28,
     "metadata": {},
     "output_type": "execute_result"
    }
   ],
   "source": [
    "LR.score(x_train,y_train)"
   ]
  },
  {
   "cell_type": "markdown",
   "id": "11b7014f",
   "metadata": {},
   "source": [
    "# Testing score"
   ]
  },
  {
   "cell_type": "code",
   "execution_count": 29,
   "id": "5d7c33c1",
   "metadata": {},
   "outputs": [
    {
     "data": {
      "text/plain": [
       "0.7442045176133333"
      ]
     },
     "execution_count": 29,
     "metadata": {},
     "output_type": "execute_result"
    }
   ],
   "source": [
    "LR.score(x_test,y_test)"
   ]
  },
  {
   "cell_type": "markdown",
   "id": "b31f2f9b",
   "metadata": {},
   "source": [
    "# # Lets check with evaluation metric Adjusted R2_Score for Model confidence"
   ]
  },
  {
   "cell_type": "code",
   "execution_count": 30,
   "id": "6fac3572",
   "metadata": {},
   "outputs": [],
   "source": [
    "from sklearn.metrics import r2_score"
   ]
  },
  {
   "cell_type": "markdown",
   "id": "8fbdb193",
   "metadata": {},
   "source": [
    "# R2_Score with Training Data"
   ]
  },
  {
   "cell_type": "code",
   "execution_count": 31,
   "id": "af9317dd",
   "metadata": {},
   "outputs": [
    {
     "data": {
      "text/plain": [
       "0.7497680382834926"
      ]
     },
     "execution_count": 31,
     "metadata": {},
     "output_type": "execute_result"
    }
   ],
   "source": [
    "x_pred=LR.predict(x_train)\n",
    "r2_score(y_train,x_pred)"
   ]
  },
  {
   "cell_type": "markdown",
   "id": "7155b849",
   "metadata": {},
   "source": [
    "# R2_score with Testing Data"
   ]
  },
  {
   "cell_type": "code",
   "execution_count": 32,
   "id": "d00821cb",
   "metadata": {},
   "outputs": [
    {
     "data": {
      "text/plain": [
       "0.7442045176133333"
      ]
     },
     "execution_count": 32,
     "metadata": {},
     "output_type": "execute_result"
    }
   ],
   "source": [
    "y_pred = LR.predict(x_test)\n",
    "r2_score(y_test,y_pred)"
   ]
  },
  {
   "cell_type": "markdown",
   "id": "64df6cd5",
   "metadata": {},
   "source": [
    "# we got 74% of score in all above segments,which is a good sign. Lets try LASSO and RIDGE Regressions to check whether model is overfitted or not"
   ]
  },
  {
   "cell_type": "code",
   "execution_count": 33,
   "id": "8fc6bdd7",
   "metadata": {},
   "outputs": [],
   "source": [
    "from sklearn.linear_model import Ridge,Lasso,RidgeCV,LassoCV"
   ]
  },
  {
   "cell_type": "markdown",
   "id": "12129684",
   "metadata": {},
   "source": [
    "# Giving iterations to learn model"
   ]
  },
  {
   "cell_type": "code",
   "execution_count": 34,
   "id": "fca179b4",
   "metadata": {},
   "outputs": [],
   "source": [
    "Lassocv=LassoCV(max_iter=200,normalize=True)"
   ]
  },
  {
   "cell_type": "markdown",
   "id": "41088405",
   "metadata": {},
   "source": [
    "***Training with Lasso Regression on Training Data****"
   ]
  },
  {
   "cell_type": "code",
   "execution_count": 35,
   "id": "c377ffb3",
   "metadata": {},
   "outputs": [
    {
     "data": {
      "text/plain": [
       "LassoCV(max_iter=200, normalize=True)"
      ]
     },
     "execution_count": 35,
     "metadata": {},
     "output_type": "execute_result"
    }
   ],
   "source": [
    "Lassocv.fit(x_train,y_train)"
   ]
  },
  {
   "cell_type": "markdown",
   "id": "5cc27f7b",
   "metadata": {},
   "source": [
    "***Taking the alpha number at which model should initiate train***"
   ]
  },
  {
   "cell_type": "code",
   "execution_count": 36,
   "id": "67442204",
   "metadata": {},
   "outputs": [
    {
     "data": {
      "text/plain": [
       "0.4084149804242181"
      ]
     },
     "execution_count": 36,
     "metadata": {},
     "output_type": "execute_result"
    }
   ],
   "source": [
    "alpha_num = Lassocv.alpha_\n",
    "alpha_num"
   ]
  },
  {
   "cell_type": "markdown",
   "id": "03997767",
   "metadata": {},
   "source": [
    "***Initiating Lasso Regression with Alpha number***"
   ]
  },
  {
   "cell_type": "code",
   "execution_count": 37,
   "id": "e702361b",
   "metadata": {},
   "outputs": [],
   "source": [
    "lasso_reg = Lasso(alpha_num)"
   ]
  },
  {
   "cell_type": "markdown",
   "id": "139422c8",
   "metadata": {},
   "source": [
    "***Model Training using Lasso Regression on Training Data***"
   ]
  },
  {
   "cell_type": "code",
   "execution_count": 38,
   "id": "e7a5e7b3",
   "metadata": {},
   "outputs": [
    {
     "data": {
      "text/plain": [
       "Lasso(alpha=0.4084149804242181)"
      ]
     },
     "execution_count": 38,
     "metadata": {},
     "output_type": "execute_result"
    }
   ],
   "source": [
    "lasso_reg.fit(x_train,y_train)"
   ]
  },
  {
   "cell_type": "markdown",
   "id": "5f82695e",
   "metadata": {},
   "source": [
    "****Training Score using Lasso Regression***"
   ]
  },
  {
   "cell_type": "code",
   "execution_count": 39,
   "id": "07a6059f",
   "metadata": {},
   "outputs": [
    {
     "data": {
      "text/plain": [
       "0.7534068004989788"
      ]
     },
     "execution_count": 39,
     "metadata": {},
     "output_type": "execute_result"
    }
   ],
   "source": [
    "lasso_reg.score(x_train,y_train)"
   ]
  },
  {
   "cell_type": "markdown",
   "id": "11279547",
   "metadata": {},
   "source": [
    "***Testing Score using Lasso Regression***"
   ]
  },
  {
   "cell_type": "code",
   "execution_count": 40,
   "id": "0d86306c",
   "metadata": {},
   "outputs": [
    {
     "data": {
      "text/plain": [
       "0.7406377433546463"
      ]
     },
     "execution_count": 40,
     "metadata": {},
     "output_type": "execute_result"
    }
   ],
   "source": [
    "lasso_reg.score(x_test,y_test)"
   ]
  },
  {
   "cell_type": "markdown",
   "id": "85839642",
   "metadata": {},
   "source": [
    "# In Lasso Regression it is also giving us 74%score,Lets use Ridge Regression to cross verify the result"
   ]
  },
  {
   "cell_type": "code",
   "execution_count": 41,
   "id": "8b57ac4f",
   "metadata": {},
   "outputs": [],
   "source": [
    "ridgecv_=RidgeCV(alphas=np.arange(0.001,0.1,0.01),normalize=True)"
   ]
  },
  {
   "cell_type": "code",
   "execution_count": 42,
   "id": "052b2dc1",
   "metadata": {},
   "outputs": [
    {
     "data": {
      "text/plain": [
       "RidgeCV(alphas=array([0.001, 0.011, 0.021, 0.031, 0.041, 0.051, 0.061, 0.071, 0.081,\n",
       "       0.091]),\n",
       "        normalize=True)"
      ]
     },
     "execution_count": 42,
     "metadata": {},
     "output_type": "execute_result"
    }
   ],
   "source": [
    "###Training using Ridge Regression####\n",
    "ridgecv_.fit(x_train,y_train)"
   ]
  },
  {
   "cell_type": "code",
   "execution_count": 43,
   "id": "3b295982",
   "metadata": {},
   "outputs": [
    {
     "data": {
      "text/plain": [
       "0.001"
      ]
     },
     "execution_count": 43,
     "metadata": {},
     "output_type": "execute_result"
    }
   ],
   "source": [
    "alpha_num_ridge=ridgecv_.alpha_\n",
    "alpha_num_ridge"
   ]
  },
  {
   "cell_type": "code",
   "execution_count": 44,
   "id": "7eb1f2a9",
   "metadata": {},
   "outputs": [],
   "source": [
    "Ridge_model = Ridge(alpha=alpha_num_ridge)"
   ]
  },
  {
   "cell_type": "code",
   "execution_count": 45,
   "id": "e9657cde",
   "metadata": {},
   "outputs": [
    {
     "data": {
      "text/plain": [
       "Ridge(alpha=0.001)"
      ]
     },
     "execution_count": 45,
     "metadata": {},
     "output_type": "execute_result"
    }
   ],
   "source": [
    "Ridge_model.fit(x_train,y_train)"
   ]
  },
  {
   "cell_type": "markdown",
   "id": "37792a16",
   "metadata": {},
   "source": [
    "# Model Training score using Ridge Regression"
   ]
  },
  {
   "cell_type": "code",
   "execution_count": 46,
   "id": "53cb470b",
   "metadata": {},
   "outputs": [
    {
     "data": {
      "text/plain": [
       "0.7534068083682284"
      ]
     },
     "execution_count": 46,
     "metadata": {},
     "output_type": "execute_result"
    }
   ],
   "source": [
    "Ridge_model.score(x_train,y_train)"
   ]
  },
  {
   "cell_type": "code",
   "execution_count": 47,
   "id": "68f02c84",
   "metadata": {},
   "outputs": [
    {
     "data": {
      "text/plain": [
       "Ridge(alpha=0.001)"
      ]
     },
     "execution_count": 47,
     "metadata": {},
     "output_type": "execute_result"
    }
   ],
   "source": [
    "Ridge_model.fit(x_test,y_test)"
   ]
  },
  {
   "cell_type": "markdown",
   "id": "2d0268f5",
   "metadata": {},
   "source": [
    "# Model Testing Score using Ridge Regression"
   ]
  },
  {
   "cell_type": "code",
   "execution_count": 48,
   "id": "a86bd8ee",
   "metadata": {},
   "outputs": [
    {
     "data": {
      "text/plain": [
       "0.7442045176099783"
      ]
     },
     "execution_count": 48,
     "metadata": {},
     "output_type": "execute_result"
    }
   ],
   "source": [
    "Ridge_model.score(x_test,y_test)"
   ]
  },
  {
   "cell_type": "markdown",
   "id": "9ceb4c77",
   "metadata": {},
   "source": [
    "# By using Ridge Regression we have ascertained 74% score again,it concludes that our Model is not Overfitting and Score is also satisfactory"
   ]
  },
  {
   "cell_type": "markdown",
   "id": "6427dc95",
   "metadata": {},
   "source": [
    "***Lets check overall error of Model using MAE,MSE,RMSE"
   ]
  },
  {
   "cell_type": "code",
   "execution_count": 49,
   "id": "62ea02a9",
   "metadata": {},
   "outputs": [],
   "source": [
    "from sklearn.metrics import mean_absolute_error,mean_squared_error"
   ]
  },
  {
   "cell_type": "code",
   "execution_count": 50,
   "id": "cc99eb35",
   "metadata": {},
   "outputs": [
    {
     "data": {
      "text/plain": [
       "4472.1160184824375"
      ]
     },
     "execution_count": 50,
     "metadata": {},
     "output_type": "execute_result"
    }
   ],
   "source": [
    "mean_absolute_error(y_test,y_pred)"
   ]
  },
  {
   "cell_type": "code",
   "execution_count": 51,
   "id": "ed3c1856",
   "metadata": {},
   "outputs": [
    {
     "data": {
      "text/plain": [
       "40327983.38802577"
      ]
     },
     "execution_count": 51,
     "metadata": {},
     "output_type": "execute_result"
    }
   ],
   "source": [
    "mean_squared_error(y_test,y_pred)"
   ]
  },
  {
   "cell_type": "code",
   "execution_count": 52,
   "id": "8d1a0e7f",
   "metadata": {},
   "outputs": [
    {
     "data": {
      "text/plain": [
       "6350.431748159"
      ]
     },
     "execution_count": 52,
     "metadata": {},
     "output_type": "execute_result"
    }
   ],
   "source": [
    "##Root mean squared error\n",
    "np.sqrt(40327983.38802577)"
   ]
  },
  {
   "cell_type": "markdown",
   "id": "5c5e1db3",
   "metadata": {},
   "source": [
    "# Model Building using ADA Boost Regressor"
   ]
  },
  {
   "cell_type": "code",
   "execution_count": 53,
   "id": "ba717f23",
   "metadata": {},
   "outputs": [],
   "source": [
    "from sklearn.ensemble import AdaBoostRegressor"
   ]
  },
  {
   "cell_type": "code",
   "execution_count": 54,
   "id": "60aa0eb6",
   "metadata": {},
   "outputs": [],
   "source": [
    "###Initiating object for AdaBoostRegressor###\n",
    "ada= AdaBoostRegressor()"
   ]
  },
  {
   "cell_type": "code",
   "execution_count": 55,
   "id": "8ebb94ac",
   "metadata": {},
   "outputs": [
    {
     "data": {
      "text/plain": [
       "AdaBoostRegressor()"
      ]
     },
     "execution_count": 55,
     "metadata": {},
     "output_type": "execute_result"
    }
   ],
   "source": [
    "###Model Training using Ada Boost Regressor###\n",
    "ada.fit(x_train,y_train)"
   ]
  },
  {
   "cell_type": "code",
   "execution_count": 56,
   "id": "1431c58f",
   "metadata": {},
   "outputs": [],
   "source": [
    "###Predicting values in x_train for comparing with y_train###\n",
    "x_pred= ada.predict(x_train)"
   ]
  },
  {
   "cell_type": "code",
   "execution_count": 57,
   "id": "2a08cb68",
   "metadata": {},
   "outputs": [
    {
     "data": {
      "text/plain": [
       "0.8410111055774325"
      ]
     },
     "execution_count": 57,
     "metadata": {},
     "output_type": "execute_result"
    }
   ],
   "source": [
    "####R2 score on Training Data using AdaBoost Regressor###\n",
    "r2_score(y_train,x_pred)"
   ]
  },
  {
   "cell_type": "code",
   "execution_count": 58,
   "id": "ab211343",
   "metadata": {},
   "outputs": [],
   "source": [
    "##Predicting values in x-test for comparing with y_test### \n",
    "y_pred = ada.predict(x_test)"
   ]
  },
  {
   "cell_type": "code",
   "execution_count": 59,
   "id": "24fd25d9",
   "metadata": {},
   "outputs": [
    {
     "data": {
      "text/plain": [
       "0.8206985595028016"
      ]
     },
     "execution_count": 59,
     "metadata": {},
     "output_type": "execute_result"
    }
   ],
   "source": [
    "###Testing score using Ada Boost Regressor#####\n",
    "r2_score(y_test,y_pred)"
   ]
  },
  {
   "cell_type": "markdown",
   "id": "a0adf276",
   "metadata": {},
   "source": [
    "# We have got a good score by using AdaBoostRegressor, Lets try HYPERPARAMETER TUNINGand see if score increases"
   ]
  },
  {
   "cell_type": "code",
   "execution_count": 60,
   "id": "8b3287c5",
   "metadata": {},
   "outputs": [],
   "source": [
    "from sklearn.model_selection import RandomizedSearchCV,GridSearchCV"
   ]
  },
  {
   "cell_type": "code",
   "execution_count": 61,
   "id": "d396e5a9",
   "metadata": {},
   "outputs": [
    {
     "data": {
      "text/plain": [
       "AdaBoostRegressor()"
      ]
     },
     "execution_count": 61,
     "metadata": {},
     "output_type": "execute_result"
    }
   ],
   "source": [
    "AdaBoostRegressor()"
   ]
  },
  {
   "cell_type": "code",
   "execution_count": 62,
   "id": "35da1146",
   "metadata": {},
   "outputs": [],
   "source": [
    "###Giving best parameters to Search upon####\n",
    "params={'n_estimators':[45,50,55,60,70],'learning_rate':[1,2,3,4,5]}"
   ]
  },
  {
   "cell_type": "code",
   "execution_count": 63,
   "id": "4ff357d5",
   "metadata": {},
   "outputs": [],
   "source": [
    "#3Giving RandomizedSearchCV the estimator ,cross validations,param_distribution###\n",
    "rndn_search = RandomizedSearchCV(AdaBoostRegressor(),cv=5,param_distributions=params)"
   ]
  },
  {
   "cell_type": "code",
   "execution_count": 64,
   "id": "809bea41",
   "metadata": {},
   "outputs": [
    {
     "data": {
      "text/plain": [
       "RandomizedSearchCV(cv=5, estimator=AdaBoostRegressor(),\n",
       "                   param_distributions={'learning_rate': [1, 2, 3, 4, 5],\n",
       "                                        'n_estimators': [45, 50, 55, 60, 70]})"
      ]
     },
     "execution_count": 64,
     "metadata": {},
     "output_type": "execute_result"
    }
   ],
   "source": [
    "##Model training on Training Data###\n",
    "rndn_search.fit(x_train,y_train)"
   ]
  },
  {
   "cell_type": "code",
   "execution_count": 65,
   "id": "1cf01abd",
   "metadata": {},
   "outputs": [
    {
     "data": {
      "text/plain": [
       "AdaBoostRegressor(learning_rate=1)"
      ]
     },
     "execution_count": 65,
     "metadata": {},
     "output_type": "execute_result"
    }
   ],
   "source": [
    "###Finding the best estimators###\n",
    "rndn_search.best_estimator_"
   ]
  },
  {
   "cell_type": "code",
   "execution_count": 66,
   "id": "79256841",
   "metadata": {},
   "outputs": [
    {
     "data": {
      "text/plain": [
       "AdaBoostRegressor(learning_rate=0.01, n_estimators=70)"
      ]
     },
     "execution_count": 66,
     "metadata": {},
     "output_type": "execute_result"
    }
   ],
   "source": [
    "ada = AdaBoostRegressor(learning_rate=0.01,n_estimators=70)\n",
    "ada.fit(x_train,y_train)"
   ]
  },
  {
   "cell_type": "code",
   "execution_count": 67,
   "id": "66acb2ff",
   "metadata": {},
   "outputs": [],
   "source": [
    "y_predict = ada.predict(x_test)"
   ]
  },
  {
   "cell_type": "code",
   "execution_count": 68,
   "id": "f14ae5d3",
   "metadata": {},
   "outputs": [],
   "source": [
    "from sklearn import metrics"
   ]
  },
  {
   "cell_type": "code",
   "execution_count": 69,
   "id": "426ddc92",
   "metadata": {},
   "outputs": [
    {
     "name": "stdout",
     "output_type": "stream",
     "text": [
      "===========Score post Hyper Parameter Tuning is==========\n"
     ]
    },
    {
     "data": {
      "text/plain": [
       "0.8460247692788975"
      ]
     },
     "execution_count": 69,
     "metadata": {},
     "output_type": "execute_result"
    }
   ],
   "source": [
    "print(\"===========Score post Hyper Parameter Tuning is==========\")\n",
    "\n",
    "metrics.r2_score(y_test,y_predict)"
   ]
  },
  {
   "cell_type": "markdown",
   "id": "3e3a220a",
   "metadata": {},
   "source": [
    "# we got 84% score post HyperParameter  Tuning using RandomizedSeachCV,Lets cross check the same by using GridSearchCV"
   ]
  },
  {
   "cell_type": "code",
   "execution_count": 70,
   "id": "6e574a35",
   "metadata": {},
   "outputs": [],
   "source": [
    "g_params ={'n_estimators':[30,40,50,60],'learning_rate':[0.25,0.30,0.40,0.70,1]}"
   ]
  },
  {
   "cell_type": "code",
   "execution_count": 71,
   "id": "1d0ba77f",
   "metadata": {},
   "outputs": [],
   "source": [
    "grid_search= GridSearchCV(AdaBoostRegressor(),param_grid=g_params)"
   ]
  },
  {
   "cell_type": "code",
   "execution_count": 72,
   "id": "d755fe41",
   "metadata": {},
   "outputs": [
    {
     "data": {
      "text/plain": [
       "GridSearchCV(estimator=AdaBoostRegressor(),\n",
       "             param_grid={'learning_rate': [0.25, 0.3, 0.4, 0.7, 1],\n",
       "                         'n_estimators': [30, 40, 50, 60]})"
      ]
     },
     "execution_count": 72,
     "metadata": {},
     "output_type": "execute_result"
    }
   ],
   "source": [
    "grid_search.fit(x_train,y_train)"
   ]
  },
  {
   "cell_type": "code",
   "execution_count": 73,
   "id": "2ae9c050",
   "metadata": {},
   "outputs": [
    {
     "data": {
      "text/plain": [
       "{'learning_rate': 0.3, 'n_estimators': 60}"
      ]
     },
     "execution_count": 73,
     "metadata": {},
     "output_type": "execute_result"
    }
   ],
   "source": [
    "grid_search.best_params_"
   ]
  },
  {
   "cell_type": "code",
   "execution_count": 74,
   "id": "5af90855",
   "metadata": {},
   "outputs": [],
   "source": [
    "grid= AdaBoostRegressor(learning_rate=1,n_estimators=60)"
   ]
  },
  {
   "cell_type": "code",
   "execution_count": 75,
   "id": "fcc7552e",
   "metadata": {},
   "outputs": [],
   "source": [
    "y_pred= ada.predict(x_test)"
   ]
  },
  {
   "cell_type": "code",
   "execution_count": 76,
   "id": "088609e2",
   "metadata": {},
   "outputs": [
    {
     "name": "stdout",
     "output_type": "stream",
     "text": [
      "=======Testing Score post Hyper Parameter tuning using GridSearchCV=======\n"
     ]
    },
    {
     "data": {
      "text/plain": [
       "0.8460247692788975"
      ]
     },
     "execution_count": 76,
     "metadata": {},
     "output_type": "execute_result"
    }
   ],
   "source": [
    "print(\"=======Testing Score post Hyper Parameter tuning using GridSearchCV=======\")\n",
    "metrics.r2_score(y_test,y_pred)"
   ]
  },
  {
   "cell_type": "markdown",
   "id": "db48aff5",
   "metadata": {},
   "source": [
    "***We have again got 84% score post HyperParameter tuning using GridSearchCV***\n",
    "***Lets check MAE,MSE,RSME for this***"
   ]
  },
  {
   "cell_type": "code",
   "execution_count": 77,
   "id": "eccffaa6",
   "metadata": {},
   "outputs": [
    {
     "data": {
      "text/plain": [
       "3078.295823380734"
      ]
     },
     "execution_count": 77,
     "metadata": {},
     "output_type": "execute_result"
    }
   ],
   "source": [
    "mean_absolute_error(y_test,y_pred)"
   ]
  },
  {
   "cell_type": "code",
   "execution_count": 78,
   "id": "e66959e5",
   "metadata": {},
   "outputs": [
    {
     "data": {
      "text/plain": [
       "24275294.03080548"
      ]
     },
     "execution_count": 78,
     "metadata": {},
     "output_type": "execute_result"
    }
   ],
   "source": [
    "mean_squared_error(y_test,y_pred)"
   ]
  },
  {
   "cell_type": "code",
   "execution_count": 79,
   "id": "eef0a1a0",
   "metadata": {},
   "outputs": [
    {
     "name": "stdout",
     "output_type": "stream",
     "text": [
      "Root mean squared error=== 4925.40342114931\n"
     ]
    }
   ],
   "source": [
    "print(\"Root mean squared error===\",np.sqrt(24259598.86106933))"
   ]
  },
  {
   "cell_type": "markdown",
   "id": "6a5c1d9a",
   "metadata": {},
   "source": [
    "# Model building using KNN Regressor"
   ]
  },
  {
   "cell_type": "code",
   "execution_count": 80,
   "id": "8d82c12b",
   "metadata": {},
   "outputs": [],
   "source": [
    "##Importing necessary Library####\n",
    "from sklearn.neighbors import KNeighborsRegressor"
   ]
  },
  {
   "cell_type": "code",
   "execution_count": 81,
   "id": "8238032b",
   "metadata": {},
   "outputs": [],
   "source": [
    "##Creating object for algorithm####\n",
    "Knn=KNeighborsRegressor()"
   ]
  },
  {
   "cell_type": "code",
   "execution_count": 82,
   "id": "e007b861",
   "metadata": {},
   "outputs": [
    {
     "data": {
      "text/plain": [
       "KNeighborsRegressor()"
      ]
     },
     "execution_count": 82,
     "metadata": {},
     "output_type": "execute_result"
    }
   ],
   "source": [
    "##Model training###\n",
    "Knn.fit(x_train,y_train)"
   ]
  },
  {
   "cell_type": "code",
   "execution_count": 83,
   "id": "6c67a282",
   "metadata": {},
   "outputs": [],
   "source": [
    "y_pred= Knn.predict(x_test)"
   ]
  },
  {
   "cell_type": "code",
   "execution_count": 84,
   "id": "4d21bfc3",
   "metadata": {},
   "outputs": [
    {
     "name": "stdout",
     "output_type": "stream",
     "text": [
      "Training score without Hyperparameter tuning is==== 0.8718415084358451\n"
     ]
    }
   ],
   "source": [
    "print(\"Training score without Hyperparameter tuning is====\",Knn.score(x_train,y_train))"
   ]
  },
  {
   "cell_type": "code",
   "execution_count": 85,
   "id": "391815aa",
   "metadata": {},
   "outputs": [
    {
     "name": "stdout",
     "output_type": "stream",
     "text": [
      "Testing score without Hyperparameter Tuning is ===== 0.8089911227541022\n"
     ]
    }
   ],
   "source": [
    "print(\"Testing score without Hyperparameter Tuning is =====\",Knn.score(x_test,y_test))"
   ]
  },
  {
   "cell_type": "markdown",
   "id": "23a7f6cd",
   "metadata": {},
   "source": [
    "# Hyperparameter Tuning"
   ]
  },
  {
   "cell_type": "code",
   "execution_count": 86,
   "id": "12623081",
   "metadata": {},
   "outputs": [],
   "source": [
    "params= {'algorithm':['ball_tree', 'kd_tree', 'brute'],\n",
    "                      'leaf_size':[20,30,40,50],\n",
    "                      'n_neighbors':[3,5,7,9,11,13]}"
   ]
  },
  {
   "cell_type": "code",
   "execution_count": 87,
   "id": "07ba4e2f",
   "metadata": {},
   "outputs": [],
   "source": [
    "grid_knn = GridSearchCV(estimator=Knn,param_grid=params)"
   ]
  },
  {
   "cell_type": "code",
   "execution_count": 88,
   "id": "3b0fc699",
   "metadata": {},
   "outputs": [
    {
     "data": {
      "text/plain": [
       "GridSearchCV(estimator=KNeighborsRegressor(),\n",
       "             param_grid={'algorithm': ['ball_tree', 'kd_tree', 'brute'],\n",
       "                         'leaf_size': [20, 30, 40, 50],\n",
       "                         'n_neighbors': [3, 5, 7, 9, 11, 13]})"
      ]
     },
     "execution_count": 88,
     "metadata": {},
     "output_type": "execute_result"
    }
   ],
   "source": [
    "grid_knn.fit(x_train,y_train)"
   ]
  },
  {
   "cell_type": "code",
   "execution_count": 89,
   "id": "94dd0271",
   "metadata": {},
   "outputs": [
    {
     "data": {
      "text/plain": [
       "{'algorithm': 'ball_tree', 'leaf_size': 20, 'n_neighbors': 7}"
      ]
     },
     "execution_count": 89,
     "metadata": {},
     "output_type": "execute_result"
    }
   ],
   "source": [
    "grid_knn.best_params_"
   ]
  },
  {
   "cell_type": "code",
   "execution_count": 90,
   "id": "5fba50c7",
   "metadata": {},
   "outputs": [],
   "source": [
    "knn = KNeighborsRegressor(algorithm='ball_tree',leaf_size=20,n_neighbors=7)"
   ]
  },
  {
   "cell_type": "code",
   "execution_count": 91,
   "id": "2b4bbdf0",
   "metadata": {},
   "outputs": [],
   "source": [
    "y_pred = Knn.predict(x_test)"
   ]
  },
  {
   "cell_type": "code",
   "execution_count": 92,
   "id": "bf0d22ca",
   "metadata": {},
   "outputs": [
    {
     "name": "stdout",
     "output_type": "stream",
     "text": [
      "Score Post Hyperparameter Tuning is====== 0.8089911227541022\n"
     ]
    }
   ],
   "source": [
    "print(\"Score Post Hyperparameter Tuning is======\",metrics.r2_score(y_test,y_pred))"
   ]
  },
  {
   "cell_type": "markdown",
   "id": "befa521f",
   "metadata": {},
   "source": [
    "***Calculating MAE,MSE,RSME for KNN algorithm***"
   ]
  },
  {
   "cell_type": "code",
   "execution_count": 93,
   "id": "2132eff5",
   "metadata": {},
   "outputs": [
    {
     "name": "stdout",
     "output_type": "stream",
     "text": [
      "Mean Absolute Error is===== 3130.8506026287014\n"
     ]
    }
   ],
   "source": [
    "print(\"Mean Absolute Error is=====\",mean_absolute_error(y_test,y_pred))"
   ]
  },
  {
   "cell_type": "code",
   "execution_count": 94,
   "id": "57fdf65a",
   "metadata": {},
   "outputs": [
    {
     "name": "stdout",
     "output_type": "stream",
     "text": [
      "Mean squared error is====== 30113912.71130414\n"
     ]
    }
   ],
   "source": [
    "print(\"Mean squared error is======\",mean_squared_error(y_test,y_pred))"
   ]
  },
  {
   "cell_type": "code",
   "execution_count": 95,
   "id": "711fa9dc",
   "metadata": {},
   "outputs": [
    {
     "name": "stdout",
     "output_type": "stream",
     "text": [
      "Root mean squared error=== 5487.614482751512\n"
     ]
    }
   ],
   "source": [
    "print(\"Root mean squared error===\",np.sqrt(30113912.71130414))"
   ]
  },
  {
   "cell_type": "markdown",
   "id": "0e080569",
   "metadata": {},
   "source": [
    "# Model building using Gradient Boosting Regressor"
   ]
  },
  {
   "cell_type": "code",
   "execution_count": 96,
   "id": "6853a183",
   "metadata": {},
   "outputs": [],
   "source": [
    "from sklearn.ensemble import GradientBoostingRegressor"
   ]
  },
  {
   "cell_type": "code",
   "execution_count": 97,
   "id": "87cb6e77",
   "metadata": {},
   "outputs": [],
   "source": [
    "gbr = GradientBoostingRegressor()"
   ]
  },
  {
   "cell_type": "code",
   "execution_count": 98,
   "id": "22215f0f",
   "metadata": {},
   "outputs": [
    {
     "data": {
      "text/plain": [
       "GradientBoostingRegressor()"
      ]
     },
     "execution_count": 98,
     "metadata": {},
     "output_type": "execute_result"
    }
   ],
   "source": [
    "gbr.fit(x_train,y_train)"
   ]
  },
  {
   "cell_type": "code",
   "execution_count": 99,
   "id": "19e67d5a",
   "metadata": {},
   "outputs": [
    {
     "name": "stdout",
     "output_type": "stream",
     "text": [
      "Training score without hyperparameter tuning is====== 0.9157626973397918\n"
     ]
    }
   ],
   "source": [
    "print(\"Training score without hyperparameter tuning is======\",gbr.score(x_train,y_train))"
   ]
  },
  {
   "cell_type": "code",
   "execution_count": 100,
   "id": "50022c4c",
   "metadata": {},
   "outputs": [],
   "source": [
    "y_predict = gbr.predict(x_test)"
   ]
  },
  {
   "cell_type": "code",
   "execution_count": 101,
   "id": "999a372d",
   "metadata": {},
   "outputs": [
    {
     "name": "stdout",
     "output_type": "stream",
     "text": [
      "Testing score without Hyperparameter Tuning is 0.8432240829995472\n"
     ]
    }
   ],
   "source": [
    "print(\"Testing score without Hyperparameter Tuning is\",metrics.r2_score(y_test,y_predict))"
   ]
  },
  {
   "cell_type": "markdown",
   "id": "5fb9e42a",
   "metadata": {},
   "source": [
    "***Hyperparameter Tuning***"
   ]
  },
  {
   "cell_type": "code",
   "execution_count": 102,
   "id": "598a7cd5",
   "metadata": {},
   "outputs": [],
   "source": [
    "params={'min_samples_split':[2,3,4],\n",
    "       'min_samples_leaf':[2,3,4],\n",
    "       'max_depth':[2,3,4],\n",
    "       'learning_rate':[0.1,0.2,0.3]}"
   ]
  },
  {
   "cell_type": "code",
   "execution_count": 103,
   "id": "a92fc0e2",
   "metadata": {},
   "outputs": [],
   "source": [
    "rndn_search = RandomizedSearchCV(GradientBoostingRegressor(),cv=5,param_distributions=params)"
   ]
  },
  {
   "cell_type": "code",
   "execution_count": 104,
   "id": "f6abcbe5",
   "metadata": {},
   "outputs": [
    {
     "data": {
      "text/plain": [
       "RandomizedSearchCV(cv=5, estimator=GradientBoostingRegressor(),\n",
       "                   param_distributions={'learning_rate': [0.1, 0.2, 0.3],\n",
       "                                        'max_depth': [2, 3, 4],\n",
       "                                        'min_samples_leaf': [2, 3, 4],\n",
       "                                        'min_samples_split': [2, 3, 4]})"
      ]
     },
     "execution_count": 104,
     "metadata": {},
     "output_type": "execute_result"
    }
   ],
   "source": [
    "rndn_search.fit(x_train,y_train)"
   ]
  },
  {
   "cell_type": "code",
   "execution_count": 105,
   "id": "327d584f",
   "metadata": {},
   "outputs": [
    {
     "data": {
      "text/plain": [
       "GradientBoostingRegressor(max_depth=2, min_samples_leaf=2, min_samples_split=3)"
      ]
     },
     "execution_count": 105,
     "metadata": {},
     "output_type": "execute_result"
    }
   ],
   "source": [
    "rndn_search.best_estimator_"
   ]
  },
  {
   "cell_type": "code",
   "execution_count": 106,
   "id": "874b03d8",
   "metadata": {},
   "outputs": [
    {
     "data": {
      "text/plain": [
       "GradientBoostingRegressor(max_depth=2, min_samples_leaf=3, min_samples_split=4)"
      ]
     },
     "execution_count": 106,
     "metadata": {},
     "output_type": "execute_result"
    }
   ],
   "source": [
    "gbr=GradientBoostingRegressor(learning_rate=0.1, max_depth=2, min_samples_leaf=3,min_samples_split=4)\n",
    "gbr.fit(x_train,y_train)"
   ]
  },
  {
   "cell_type": "code",
   "execution_count": 107,
   "id": "1ddec15e",
   "metadata": {},
   "outputs": [],
   "source": [
    "y_predict=gbr.predict(x_test)"
   ]
  },
  {
   "cell_type": "code",
   "execution_count": 108,
   "id": "ff9a4fe3",
   "metadata": {},
   "outputs": [
    {
     "name": "stdout",
     "output_type": "stream",
     "text": [
      "Score Post Hyperparameter Tuning is======== 0.8500351393042953\n"
     ]
    }
   ],
   "source": [
    "print(\"Score Post Hyperparameter Tuning is========\",metrics.r2_score(y_test,y_predict))"
   ]
  },
  {
   "cell_type": "code",
   "execution_count": 109,
   "id": "7d823bfb",
   "metadata": {},
   "outputs": [
    {
     "name": "stdout",
     "output_type": "stream",
     "text": [
      "Mean Absolute Error is===== 2679.1910576863484\n",
      "Mean squared error is====== 23643030.574644804\n",
      "Root mean squared error=== 4862.409955427947\n"
     ]
    }
   ],
   "source": [
    "##Printing all evaluation score for GradientBoostingRegressor####\n",
    "print(\"Mean Absolute Error is=====\",mean_absolute_error(y_test,y_predict))\n",
    "print(\"Mean squared error is======\",mean_squared_error(y_test,y_predict))\n",
    "print(\"Root mean squared error===\",np.sqrt(23643030.57464481))"
   ]
  },
  {
   "cell_type": "markdown",
   "id": "d3ba0de9",
   "metadata": {},
   "source": [
    "***I have analyzed the scores of each and every Model here in can conclue that Linear Regression model is giving us the best score even after LASSO,RIDGE score is same on training and testing data."
   ]
  },
  {
   "cell_type": "markdown",
   "id": "35c30787",
   "metadata": {},
   "source": [
    "# Saving the Final model"
   ]
  },
  {
   "cell_type": "code",
   "execution_count": 110,
   "id": "e030bf69",
   "metadata": {},
   "outputs": [],
   "source": [
    "import pickle"
   ]
  },
  {
   "cell_type": "code",
   "execution_count": 111,
   "id": "bf25ffc3",
   "metadata": {},
   "outputs": [],
   "source": [
    "pickle.dump(LR,open('Regression_Medical_charges','wb'))"
   ]
  },
  {
   "cell_type": "markdown",
   "id": "ac718827",
   "metadata": {},
   "source": [
    "# Model is completed"
   ]
  },
  {
   "cell_type": "code",
   "execution_count": null,
   "id": "4701110a",
   "metadata": {},
   "outputs": [],
   "source": []
  }
 ],
 "metadata": {
  "kernelspec": {
   "display_name": "Python 3 (ipykernel)",
   "language": "python",
   "name": "python3"
  },
  "language_info": {
   "codemirror_mode": {
    "name": "ipython",
    "version": 3
   },
   "file_extension": ".py",
   "mimetype": "text/x-python",
   "name": "python",
   "nbconvert_exporter": "python",
   "pygments_lexer": "ipython3",
   "version": "3.9.12"
  }
 },
 "nbformat": 4,
 "nbformat_minor": 5
}
